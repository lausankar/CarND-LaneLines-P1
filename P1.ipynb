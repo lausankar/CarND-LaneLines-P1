{
 "cells": [
  {
   "cell_type": "markdown",
   "metadata": {},
   "source": [
    "# Self-Driving Car Engineer Nanodegree\n",
    "\n",
    "\n",
    "## Project: **Finding Lane Lines on the Road** \n",
    "***\n",
    "In this project, you will use the tools you learned about in the lesson to identify lane lines on the road.  You can develop your pipeline on a series of individual images, and later apply the result to a video stream (really just a series of images). Check out the video clip \"raw-lines-example.mp4\" (also contained in this repository) to see what the output should look like after using the helper functions below. \n",
    "\n",
    "Once you have a result that looks roughly like \"raw-lines-example.mp4\", you'll need to get creative and try to average and/or extrapolate the line segments you've detected to map out the full extent of the lane lines.  You can see an example of the result you're going for in the video \"P1_example.mp4\".  Ultimately, you would like to draw just one line for the left side of the lane, and one for the right.\n",
    "\n",
    "In addition to implementing code, there is a brief writeup to complete. The writeup should be completed in a separate file, which can be either a markdown file or a pdf document. There is a [write up template](https://github.com/udacity/CarND-LaneLines-P1/blob/master/writeup_template.md) that can be used to guide the writing process. Completing both the code in the Ipython notebook and the writeup template will cover all of the [rubric points](https://review.udacity.com/#!/rubrics/322/view) for this project.\n",
    "\n",
    "---\n",
    "Let's have a look at our first image called 'test_images/solidWhiteRight.jpg'.  Run the 2 cells below (hit Shift-Enter or the \"play\" button above) to display the image.\n",
    "\n",
    "**Note: If, at any point, you encounter frozen display windows or other confounding issues, you can always start again with a clean slate by going to the \"Kernel\" menu above and selecting \"Restart & Clear Output\".**\n",
    "\n",
    "---"
   ]
  },
  {
   "cell_type": "markdown",
   "metadata": {},
   "source": [
    "**The tools you have are color selection, region of interest selection, grayscaling, Gaussian smoothing, Canny Edge Detection and Hough Tranform line detection.  You  are also free to explore and try other techniques that were not presented in the lesson.  Your goal is piece together a pipeline to detect the line segments in the image, then average/extrapolate them and draw them onto the image for display (as below).  Once you have a working pipeline, try it out on the video stream below.**\n",
    "\n",
    "---\n",
    "\n",
    "<figure>\n",
    " <img src=\"examples/line-segments-example.jpg\" width=\"380\" alt=\"Combined Image\" />\n",
    " <figcaption>\n",
    " <p></p> \n",
    " <p style=\"text-align: center;\"> Your output should look something like this (above) after detecting line segments using the helper functions below </p> \n",
    " </figcaption>\n",
    "</figure>\n",
    " <p></p> \n",
    "<figure>\n",
    " <img src=\"examples/laneLines_thirdPass.jpg\" width=\"380\" alt=\"Combined Image\" />\n",
    " <figcaption>\n",
    " <p></p> \n",
    " <p style=\"text-align: center;\"> Your goal is to connect/average/extrapolate line segments to get output like this</p> \n",
    " </figcaption>\n",
    "</figure>"
   ]
  },
  {
   "cell_type": "markdown",
   "metadata": {},
   "source": [
    "**Run the cell below to import some packages.  If you get an `import error` for a package you've already installed, try changing your kernel (select the Kernel menu above --> Change Kernel).  Still have problems?  Try relaunching Jupyter Notebook from the terminal prompt.  Also, consult the forums for more troubleshooting tips.**  "
   ]
  },
  {
   "cell_type": "markdown",
   "metadata": {},
   "source": [
    "## Import Packages"
   ]
  },
  {
   "cell_type": "code",
   "execution_count": 1,
   "metadata": {},
   "outputs": [],
   "source": [
    "#importing some useful packages\n",
    "import matplotlib.pyplot as plt\n",
    "import matplotlib.image as mpimg\n",
    "import numpy as np\n",
    "import cv2\n",
    "import sys\n",
    "import math\n",
    "from moviepy.editor import VideoFileClip\n",
    "from IPython.display import HTML, display\n",
    "%matplotlib inline"
   ]
  },
  {
   "cell_type": "markdown",
   "metadata": {},
   "source": [
    "**Some OpenCV functions (beyond those introduced in the lesson) that might be useful for this project are:**\n",
    "\n",
    "`cv2.inRange()` for color selection  \n",
    "`cv2.fillPoly()` for regions selection  \n",
    "`cv2.line()` to draw lines on an image given endpoints  \n",
    "`cv2.addWeighted()` to coadd / overlay two images\n",
    "`cv2.cvtColor()` to grayscale or change color\n",
    "`cv2.imwrite()` to output images to file  \n",
    "`cv2.bitwise_and()` to apply a mask to an image\n",
    "\n",
    "**Check out the OpenCV documentation to learn about these and discover even more awesome functionality!**"
   ]
  },
  {
   "cell_type": "markdown",
   "metadata": {},
   "source": [
    "## Helper Functions"
   ]
  },
  {
   "cell_type": "markdown",
   "metadata": {},
   "source": [
    "Below are some helper functions to help get you started. They should look familiar from the lesson!"
   ]
  },
  {
   "cell_type": "code",
   "execution_count": 2,
   "metadata": {},
   "outputs": [],
   "source": [
    "\n",
    "def grayscale(image):\n",
    "    \"\"\"Applies the Grayscale transform\n",
    "    This will return an image with only one color channel\n",
    "    but NOTE: to see the returned image as grayscale\n",
    "    (assuming your grayscaled image is called 'gray')\n",
    "    you should call plt.imshow(gray, cmap='gray')\"\"\"\n",
    "    return  cv2.cvtColor(image, cv2.COLOR_RGB2GRAY)\n",
    "    # Or use BGR2GRAY if you read an image with cv2.imread()\n",
    "    # return cv2.cvtColor(img, cv2.COLOR_BGR2GRAY)\n",
    "    \n",
    "def canny(img, low_threshold, high_threshold):\n",
    "    \"\"\"Applies the Canny transform\"\"\"\n",
    "    return cv2.Canny(img, low_threshold, high_threshold)\n",
    "\n",
    "def gaussian_blur(img, kernel_size):\n",
    "    \"\"\"Applies a Gaussian Noise kernel\"\"\"\n",
    "    return cv2.GaussianBlur(img, (kernel_size, kernel_size), 0)\n",
    "\n",
    "def region_of_interest(img, vertices):\n",
    "    \"\"\"\n",
    "    Applies an image mask.\n",
    "    \n",
    "    Only keeps the region of the image defined by the polygon\n",
    "    formed from `vertices`. The rest of the image is set to black.\n",
    "    \"\"\"\n",
    "    #defining a blank mask to start with\n",
    "    mask = np.zeros_like(img)   \n",
    "    \n",
    "    #defining a 3 channel or 1 channel color to fill the mask with depending on the input image\n",
    "    if len(img.shape) > 2:\n",
    "        channel_count = img.shape[2]  # i.e. 3 or 4 depending on your image\n",
    "        ignore_mask_color = (255,) * channel_count\n",
    "    else:\n",
    "        ignore_mask_color = 255\n",
    "        \n",
    "    #filling pixels inside the polygon defined by \"vertices\" with the fill color    \n",
    "    cv2.fillPoly(mask, vertices, ignore_mask_color)\n",
    "    \n",
    "    #returning the image only where mask pixels are nonzero\n",
    "    masked_image = cv2.bitwise_and(img, mask)\n",
    "    return masked_image\n",
    "\n",
    "\n",
    "def draw_lines(img, lines, color=[255, 0, 0], thickness=2):\n",
    "    \"\"\"\n",
    "    NOTE: this is the function you might want to use as a starting point once you want to \n",
    "    average/extrapolate the line segments you detect to map out the full\n",
    "    extent of the lane (going from the result shown in raw-lines-example.mp4\n",
    "    to that shown in P1_example.mp4).  \n",
    "    \n",
    "    Think about things like separating line segments by their \n",
    "    slope ((y2-y1)/(x2-x1)) to decide which segments are part of the left\n",
    "    line vs. the right line.  Then, you can average the position of each of \n",
    "    the lines and extrapolate to the top and bottom of the lane.\n",
    "    \n",
    "    This function draws `lines` with `color` and `thickness`.    \n",
    "    Lines are drawn on the image inplace (mutates the image).\n",
    "    If you want to make the lines semi-transparent, think about combining\n",
    "    this function with the weighted_img() function below\n",
    "    \"\"\"\n",
    "    for line in lines:\n",
    "        for x1,y1,x2,y2 in line:\n",
    "            cv2.line(img, (x1, y1), (x2, y2), color, thickness)\n",
    "\n",
    "def hough_lines(img, rho, theta, threshold, min_line_len, max_line_gap):\n",
    "    \"\"\"\n",
    "    `img` should be the output of a Canny transform.\n",
    "        \n",
    "    Returns an image with hough lines drawn.\n",
    "    \"\"\"\n",
    "    lines = cv2.HoughLinesP(img, rho, theta, threshold, np.array([]), minLineLength=min_line_len, maxLineGap=max_line_gap)\n",
    "    line_img = np.zeros((img.shape[0], img.shape[1], 3), dtype=np.uint8)\n",
    "    draw_lines(line_img, lines)\n",
    "    return line_img\n",
    "\n",
    "# Python 3 has support for cool math symbols.\n",
    "\n",
    "def weighted_img(img, initial_img, α=0.8, β=1., γ=0.):\n",
    "    \"\"\"\n",
    "    `img` is the output of the hough_lines(), An image with lines drawn on it.\n",
    "    Should be a blank image (all black) with lines drawn on it.\n",
    "    \n",
    "    `initial_img` should be the image before any processing.\n",
    "    \n",
    "    The result image is computed as follows:\n",
    "    \n",
    "    initial_img * α + img * β + γ\n",
    "    NOTE: initial_img and img must be the same shape!\n",
    "    \"\"\"\n",
    "    return cv2.addWeighted(initial_img, α, img, β, γ)\n",
    "\n"
   ]
  },
  {
   "cell_type": "markdown",
   "metadata": {},
   "source": [
    "## Custom Helper Functions"
   ]
  },
  {
   "cell_type": "code",
   "execution_count": 11,
   "metadata": {},
   "outputs": [],
   "source": [
    "def create_dir(dir):\n",
    "    \"\"\"\n",
    "    Create a directoy with the given name, if it does not exists.\n",
    "    \"\"\"\n",
    "    if not os.path.exists (dir):\n",
    "        os.makedirs(dir)\n",
    "        \n",
    "def get_area_of_interest_boundaries (image):\n",
    "    \"\"\"\n",
    "    Takes an image and returns the boundaries for area of interest polygon\n",
    "    \"\"\"\n",
    "    # top y cordinate of the polygon  starts at 60 % in this case\n",
    "    top_y = int(image.shape[0] * 0.6)\n",
    "    \n",
    "    #top x-es are 2.5% each side from the center\n",
    "    top_x1 = int ((image.shape[1]/2) - (image.shape[1] * 0.025))\n",
    "    top_x2 = int((image.shape[1]/2) + (image.shape[1] * 0.025))\n",
    "    \n",
    "    return top_y, top_x1, top_x2\n",
    "\n",
    "def get_area_of_interest (image, area='full'):\n",
    "    \"\"\"\n",
    "    This function is used to return the polygon for area of interest.\n",
    "    image: use to get the shape of the input image\n",
    "    area : full  -  Get the full area of interest\n",
    "           left  -  Get the left half of area of interest\n",
    "           right -  Get  the right half of area of interest \n",
    "    \"\"\"\n",
    "    # let's get the section of interest.\n",
    "    top_y, top_x1, top_x2 = get_area_of_interest_boundaries (image)\n",
    "    section_of_interest = None\n",
    "   \n",
    "    if area == 'left':\n",
    "        # left half of the area of interest\n",
    "\n",
    "        section_of_interest = np.array([[(0,image.shape[0]),\n",
    "                                         (top_x1, top_y), \n",
    "                                         (int(image.shape[1]/2), top_y), \n",
    "                                         (int(image.shape[1]/2),image.shape[0])]],\n",
    "                                       dtype=np.int32)\n",
    "    elif area == 'right':\n",
    "        # right half of the area of interest\n",
    "\n",
    "        section_of_interest = np.array([[ (int(image.shape[1]/2),image.shape[0]),\n",
    "                                 (int(image.shape[1]/2), top_y), \n",
    "                                 (top_x2, top_y), \n",
    "                                 (image.shape[1],image.shape[0])]],\n",
    "                               dtype=np.int32)\n",
    "\n",
    "    else:\n",
    "\n",
    "        section_of_interest = np.array([[(0,image.shape[0]),\n",
    "                                 (top_x1, top_y), \n",
    "                                 (top_x2, top_y), \n",
    "                                 (image.shape[1],image.shape[0])]],\n",
    "                               dtype=np.int32)\n",
    "\n",
    "            \n",
    "    return section_of_interest\n",
    "\n",
    "\n",
    "# take in a line and return its slope\n",
    "# Note: can be improved to hadle infinite slope.\n",
    "def slope(line):\n",
    "    \"\"\"\n",
    "    Returns the slope of a line.\n",
    "    \"\"\"\n",
    "    for x1,y1,x2,y2 in line:\n",
    "        if (y1 == y2):\n",
    "            # horizondal and vertical lines are ignored.\n",
    "            return 0\n",
    "        return (y2-y1)/(x2-x1)\n",
    "\n",
    "\n",
    "def fit_lane_lines (img, out_image):\n",
    "    \"\"\"\n",
    "    Extrapolates lane lines from img and draws them out_image\n",
    "    img (in)           : input image\n",
    "    out_image (in/out) : output image\n",
    "    \"\"\"\n",
    "    rows,cols = img.shape[:2]\n",
    "\n",
    "    # Find all pixels in the line and do a fit line.\n",
    "    pixels = cv2.findNonZero(img)\n",
    "    \n",
    "    if pixels is not None:\n",
    "        [vx,vy,x,y] = cv2.fitLine( pixels, cv2.DIST_L2,0,0.01,0.01)\n",
    "        \n",
    "        # The line should fit with in the area of interest\n",
    "        # here calculate the boudaries of the line, with in the area of interest\n",
    "        top_y, top_x1, top_x2 = get_area_of_interest_boundaries (img)\n",
    "        leftx = int( ((top_y-y) * vx/vy) + x )\n",
    "        rightx = int( ((rows-y) * vx/vy) + x )\n",
    "\n",
    "        cv2.line(out_image, (leftx, top_y), (rightx, rows-1), [255, 0, 0], 8)\n",
    "        \n",
    "\n",
    "def draw_full_lines(img, lines, color=[255, 0, 0], thickness=2):\n",
    "    \"\"\"\n",
    "    Take in an image and the lines given by hough transform.\n",
    "    Draw one full line for each lane\n",
    "    \n",
    "    img: Image to draw the lines on\n",
    "    lines: Array of lines give by hough transform\n",
    "    \"\"\"\n",
    "    left_lane = []\n",
    "    right_lane = []\n",
    "    final_lines = []\n",
    "    \n",
    "    for line in lines:\n",
    "\n",
    "        # filter off, parallel line like front of the car of start of the bridge\n",
    "        # in challenge video\n",
    "        if -0.3 <= slope(line) <= 0  or  0 <= slope(line) <= 0.3 :\n",
    "            continue\n",
    "        \n",
    "        # Here sort the lines to be left or right lane candidates.            \n",
    "        if slope(line) < 0:\n",
    "            # left lane\n",
    "            left_lane.append(line)\n",
    "        else:\n",
    "            # right lane\n",
    "            right_lane.append(line)\n",
    "\n",
    "    # One image for left, right and out.\n",
    "    # The idea here, is to plot one lane segments on an image at a time,\n",
    "    # and then do a fitlane to draw a full line.\n",
    "    left_image = np.zeros_like(img)  \n",
    "    right_image = np.zeros_like(img)  \n",
    "    out_image = np.zeros((img.shape[0], img.shape[1], 3), dtype=np.uint8)  \n",
    "    \n",
    "    # Draw one lane at a time.\n",
    "    draw_lines (left_image, left_lane)\n",
    "    draw_lines (right_image, right_lane)\n",
    "\n",
    "    # Do the fitlanes of the output image\n",
    "    fit_lane_lines ( region_of_interest (left_image, get_area_of_interest(left_image, 'left')), out_image)\n",
    "    fit_lane_lines ( region_of_interest (right_image, get_area_of_interest(right_image, 'right')), out_image)\n",
    "\n",
    "    return (out_image) \n",
    "\n",
    "\n",
    "def hough_lines_full(img, rho, theta, threshold, min_line_len, max_line_gap):\n",
    "    \"\"\"\n",
    "    Draws a full line after extraploating lane segments.\n",
    "    `img` should be the output of a Canny transform.\n",
    "\n",
    "    Returns an image with hough lines drawn.\n",
    "    \"\"\"\n",
    "    lines = cv2.HoughLinesP(img, rho, theta, threshold, np.array([]), minLineLength=min_line_len, maxLineGap=max_line_gap)\n",
    "    line_img = draw_full_lines(np.zeros_like(img), lines)\n",
    "    return line_img\n",
    "\n",
    "def display_output_images(dir):\n",
    "    \"\"\"\n",
    "    Display all the images from the given directory\n",
    "    \"\"\"\n",
    "    html_div = \"<div>\"\n",
    "    for file in os.listdir(dir):\n",
    "        image = dir + \"/\" + file \n",
    "        html_div += '<img src=\"' + image + '\"' + \"\"\"width=\"300\" height=\"110\" style=\"float:left; margin:1px\"/> \"\"\"\n",
    "    html_div += \"</div>\"\n",
    "    \n",
    "    display (HTML(html_div))\n",
    "    "
   ]
  },
  {
   "cell_type": "markdown",
   "metadata": {},
   "source": [
    "## Test Images\n",
    "\n",
    "Build your pipeline to work on the images in the directory \"test_images\"  \n",
    "**You should make sure your pipeline works well on these images before you try the videos.**"
   ]
  },
  {
   "cell_type": "code",
   "execution_count": 12,
   "metadata": {},
   "outputs": [
    {
     "data": {
      "text/plain": [
       "['solidYellowCurve2.jpg',\n",
       " 'whiteCarLaneSwitch.jpg',\n",
       " 'solidWhiteCurve.jpg',\n",
       " 'solidYellowCurve.jpg',\n",
       " 'solidYellowLeft.jpg',\n",
       " 'solidWhiteRight.jpg']"
      ]
     },
     "execution_count": 12,
     "metadata": {},
     "output_type": "execute_result"
    }
   ],
   "source": [
    "import os\n",
    "\n",
    "os.listdir(\"test_images/\")\n"
   ]
  },
  {
   "cell_type": "markdown",
   "metadata": {},
   "source": [
    "## Build a Lane Finding Pipeline\n",
    "\n"
   ]
  },
  {
   "cell_type": "markdown",
   "metadata": {},
   "source": [
    "Build the pipeline and run your solution on all test_images. Make copies into the `test_images_output` directory, and you can use the images in your writeup report.\n",
    "\n",
    "Try tuning the various parameters, especially the low and high Canny thresholds as well as the Hough lines parameters."
   ]
  },
  {
   "cell_type": "code",
   "execution_count": 13,
   "metadata": {
    "scrolled": true
   },
   "outputs": [],
   "source": [
    "def detect_lanes_in_image (image):\n",
    "    \n",
    "    gray = grayscale(image)\n",
    "\n",
    "    # blur for softening unwanted edges\n",
    "    gray = gaussian_blur (gray, 5)\n",
    "\n",
    "    # canny for detecting the edges\n",
    "    gray = canny(gray, 50, 150)\n",
    "    \n",
    "    # mask everthing but region of interest\n",
    "    gray = region_of_interest (gray, get_area_of_interest(image))\n",
    "\n",
    "    # hough transform to find lines\n",
    "    line_image = hough_lines_full (gray, 2, np.pi/180, 15, 40, 20)\n",
    "\n",
    "    # output image, add the lines on top of original image\n",
    "    out_image = weighted_img (line_image, image,  β=1.)\n",
    "    \n",
    "    return out_image\n",
    "\n"
   ]
  },
  {
   "cell_type": "markdown",
   "metadata": {},
   "source": [
    "# Image tests"
   ]
  },
  {
   "cell_type": "code",
   "execution_count": 14,
   "metadata": {},
   "outputs": [
    {
     "data": {
      "text/html": [
       "<div><img src=\"test_images_output/out_whiteCarLaneSwitch.jpg\"width=\"300\" height=\"110\" style=\"float:left; margin:1px\"/> <img src=\"test_images_output/out_solidWhiteCurve.jpg\"width=\"300\" height=\"110\" style=\"float:left; margin:1px\"/> <img src=\"test_images_output/out_solidYellowLeft.jpg\"width=\"300\" height=\"110\" style=\"float:left; margin:1px\"/> <img src=\"test_images_output/out_solidWhiteRight.jpg\"width=\"300\" height=\"110\" style=\"float:left; margin:1px\"/> <img src=\"test_images_output/out_solidYellowCurve2.jpg\"width=\"300\" height=\"110\" style=\"float:left; margin:1px\"/> <img src=\"test_images_output/out_solidYellowCurve.jpg\"width=\"300\" height=\"110\" style=\"float:left; margin:1px\"/> </div>"
      ],
      "text/plain": [
       "<IPython.core.display.HTML object>"
      ]
     },
     "metadata": {},
     "output_type": "display_data"
    }
   ],
   "source": [
    "create_dir (\"test_images_output\")\n",
    "create_dir (\"test_videos_output\")\n",
    "\n",
    "for file in os.listdir(\"test_images\"):\n",
    "    image = mpimg.imread(\"test_images/\" + file )\n",
    "    out_image = detect_lanes_in_image (image)\n",
    "    cv2.imwrite('test_images_output/out_' + file , cv2.cvtColor(out_image, cv2.COLOR_BGR2RGB))\n",
    "display_output_images (\"test_images_output\")"
   ]
  },
  {
   "cell_type": "markdown",
   "metadata": {},
   "source": [
    "## Test on Videos\n",
    "\n",
    "You know what's cooler than drawing lanes over images? Drawing lanes over video!\n",
    "\n",
    "We can test our solution on two provided videos:\n",
    "\n",
    "`solidWhiteRight.mp4`\n",
    "\n",
    "`solidYellowLeft.mp4`\n",
    "\n",
    "**Note: if you get an import error when you run the next cell, try changing your kernel (select the Kernel menu above --> Change Kernel). Still have problems? Try relaunching Jupyter Notebook from the terminal prompt. Also, consult the forums for more troubleshooting tips.**\n",
    "\n",
    "**If you get an error that looks like this:**\n",
    "```\n",
    "NeedDownloadError: Need ffmpeg exe. \n",
    "You can download it by calling: \n",
    "imageio.plugins.ffmpeg.download()\n",
    "```\n",
    "**Follow the instructions in the error message and check out [this forum post](https://discussions.udacity.com/t/project-error-of-test-on-videos/274082) for more troubleshooting tips across operating systems.**"
   ]
  },
  {
   "cell_type": "code",
   "execution_count": 15,
   "metadata": {},
   "outputs": [],
   "source": [
    "def process_image(image):\n",
    "    # NOTE: The output you return should be a color image (3 channel) for processing video below\n",
    "    # TODO: put your pipeline here,\n",
    "    # you should return the final output (image where lines are drawn on lanes)\n",
    "    result = detect_lanes_in_image(image)\n",
    "    return result"
   ]
  },
  {
   "cell_type": "markdown",
   "metadata": {},
   "source": [
    "Let's try the one with the solid white lane on the right first ..."
   ]
  },
  {
   "cell_type": "code",
   "execution_count": 16,
   "metadata": {},
   "outputs": [
    {
     "name": "stdout",
     "output_type": "stream",
     "text": [
      "[MoviePy] >>>> Building video test_videos_output/solidWhiteRight.mp4\n",
      "[MoviePy] Writing video test_videos_output/solidWhiteRight.mp4\n"
     ]
    },
    {
     "name": "stderr",
     "output_type": "stream",
     "text": [
      "100%|█████████▉| 221/222 [00:09<00:00, 22.40it/s]\n"
     ]
    },
    {
     "name": "stdout",
     "output_type": "stream",
     "text": [
      "[MoviePy] Done.\n",
      "[MoviePy] >>>> Video ready: test_videos_output/solidWhiteRight.mp4 \n",
      "\n",
      "CPU times: user 3.77 s, sys: 251 ms, total: 4.02 s\n",
      "Wall time: 11.2 s\n"
     ]
    }
   ],
   "source": [
    "white_output = 'test_videos_output/solidWhiteRight.mp4'\n",
    "## To speed up the testing process you may want to try your pipeline on a shorter subclip of the video\n",
    "## To do so add .subclip(start_second,end_second) to the end of the line below\n",
    "## Where start_second and end_second are integer values representing the start and end of the subclip\n",
    "## You may also uncomment the following line for a subclip of the first 5 seconds\n",
    "#clip1 = VideoFileClip(\"test_videos/solidWhiteRight.mp4\").subclip(8,9)\n",
    "clip1 = VideoFileClip(\"test_videos/solidWhiteRight.mp4\")\n",
    "white_clip = clip1.fl_image(process_image) #NOTE: this function expects color images!!\n",
    "%time white_clip.write_videofile(white_output, audio=False)"
   ]
  },
  {
   "cell_type": "markdown",
   "metadata": {},
   "source": [
    "Play the video inline, or if you prefer find the video in your filesystem (should be in the same directory) and play it in your video player of choice."
   ]
  },
  {
   "cell_type": "code",
   "execution_count": 17,
   "metadata": {},
   "outputs": [
    {
     "data": {
      "text/html": [
       "\n",
       "<video width=\"960\" height=\"540\" controls>\n",
       "  <source src=\"test_videos_output/solidWhiteRight.mp4\">\n",
       "</video>\n"
      ],
      "text/plain": [
       "<IPython.core.display.HTML object>"
      ]
     },
     "execution_count": 17,
     "metadata": {},
     "output_type": "execute_result"
    }
   ],
   "source": [
    "HTML(\"\"\"\n",
    "<video width=\"960\" height=\"540\" controls>\n",
    "  <source src=\"{0}\">\n",
    "</video>\n",
    "\"\"\".format(white_output))"
   ]
  },
  {
   "cell_type": "markdown",
   "metadata": {},
   "source": [
    "## Improve the draw_lines() function\n",
    "\n",
    "**At this point, if you were successful with making the pipeline and tuning parameters, you probably have the Hough line segments drawn onto the road, but what about identifying the full extent of the lane and marking it clearly as in the example video (P1_example.mp4)?  Think about defining a line to run the full length of the visible lane based on the line segments you identified with the Hough Transform. As mentioned previously, try to average and/or extrapolate the line segments you've detected to map out the full extent of the lane lines. You can see an example of the result you're going for in the video \"P1_example.mp4\".**\n",
    "\n",
    "**Go back and modify your draw_lines function accordingly and try re-running your pipeline. The new output should draw a single, solid line over the left lane line and a single, solid line over the right lane line. The lines should start from the bottom of the image and extend out to the top of the region of interest.**"
   ]
  },
  {
   "cell_type": "markdown",
   "metadata": {},
   "source": [
    "Now for the one with the solid yellow lane on the left. This one's more tricky!"
   ]
  },
  {
   "cell_type": "code",
   "execution_count": 18,
   "metadata": {},
   "outputs": [
    {
     "name": "stdout",
     "output_type": "stream",
     "text": [
      "[MoviePy] >>>> Building video test_videos_output/solidYellowLeft.mp4\n",
      "[MoviePy] Writing video test_videos_output/solidYellowLeft.mp4\n"
     ]
    },
    {
     "name": "stderr",
     "output_type": "stream",
     "text": [
      "100%|█████████▉| 681/682 [00:33<00:00, 20.48it/s]\n"
     ]
    },
    {
     "name": "stdout",
     "output_type": "stream",
     "text": [
      "[MoviePy] Done.\n",
      "[MoviePy] >>>> Video ready: test_videos_output/solidYellowLeft.mp4 \n",
      "\n",
      "CPU times: user 11.9 s, sys: 719 ms, total: 12.6 s\n",
      "Wall time: 34.6 s\n"
     ]
    }
   ],
   "source": [
    "yellow_output = 'test_videos_output/solidYellowLeft.mp4'\n",
    "## To speed up the testing process you may want to try your pipeline on a shorter subclip of the video\n",
    "## To do so add .subclip(start_second,end_second) to the end of the line below\n",
    "## Where start_second and end_second are integer values representing the start and end of the subclip\n",
    "## You may also uncomment the following line for a subclip of the first 5 seconds\n",
    "#clip2 = VideoFileClip('test_videos/solidYellowLeft.mp4').subclip(24,26)\n",
    "clip2 = VideoFileClip('test_videos/solidYellowLeft.mp4')\n",
    "yellow_clip = clip2.fl_image(process_image)\n",
    "%time yellow_clip.write_videofile(yellow_output, audio=False)"
   ]
  },
  {
   "cell_type": "code",
   "execution_count": 19,
   "metadata": {},
   "outputs": [
    {
     "data": {
      "text/html": [
       "\n",
       "<video width=\"960\" height=\"540\" controls>\n",
       "  <source src=\"test_videos_output/solidYellowLeft.mp4\">\n",
       "</video>\n"
      ],
      "text/plain": [
       "<IPython.core.display.HTML object>"
      ]
     },
     "execution_count": 19,
     "metadata": {},
     "output_type": "execute_result"
    }
   ],
   "source": [
    "HTML(\"\"\"\n",
    "<video width=\"960\" height=\"540\" controls>\n",
    "  <source src=\"{0}\">\n",
    "</video>\n",
    "\"\"\".format(yellow_output))"
   ]
  },
  {
   "cell_type": "markdown",
   "metadata": {},
   "source": [
    "## Writeup and Submission\n",
    "\n",
    "If you're satisfied with your video outputs, it's time to make the report writeup in a pdf or markdown file. Once you have this Ipython notebook ready along with the writeup, it's time to submit for review! Here is a [link](https://github.com/udacity/CarND-LaneLines-P1/blob/master/writeup_template.md) to the writeup template file.\n"
   ]
  },
  {
   "cell_type": "markdown",
   "metadata": {
    "collapsed": true
   },
   "source": [
    "## Optional Challenge\n",
    "\n",
    "Try your lane finding pipeline on the video below.  Does it still work?  Can you figure out a way to make it more robust?  If you're up for the challenge, modify your pipeline so it works with this video and submit it along with the rest of your project!"
   ]
  },
  {
   "cell_type": "code",
   "execution_count": 20,
   "metadata": {},
   "outputs": [],
   "source": [
    "def filter_yellow_and_white (image):\n",
    "    \"\"\"\n",
    "    Filters out yellow and white colors from an image.\n",
    "    \"\"\"\n",
    "    #Boundaries for white\n",
    "    white_low = np.array([0,0,200])\n",
    "    white_high = np.array([180,255,255])\n",
    "    \n",
    "    #Boundaries for yellow\n",
    "    yellow_low = np.array([20,100,100])\n",
    "    yellow_high = np.array([30,255,255])\n",
    "    \n",
    "    #convert image to HSV\n",
    "    hsv = cv2.cvtColor (image, cv2.COLOR_BGR2HSV)\n",
    "    \n",
    "    #find each mask\n",
    "    mask = cv2.inRange(hsv, white_low, white_high)\n",
    "    mask |= cv2.inRange(hsv, yellow_low, yellow_high)\n",
    "    \n",
    "    # use the mask find just the lane image\n",
    "    lane_image = cv2.bitwise_and (image, image, mask = mask)\n",
    "    \n",
    "    return lane_image\n",
    "    \n",
    "def grayscale_after_filtering_lanes (image):\n",
    "    \"\"\"Applies the Grayscale transform on an image after \n",
    "    Filtering out yellow and white lanes\n",
    "    \"\"\"\n",
    "    lane_image = filter_yellow_and_white (image)\n",
    "    return  cv2.cvtColor(lane_image, cv2.COLOR_RGB2GRAY)\n",
    "    # Or use BGR2GRAY if you read an image with cv2.imread()\n",
    "    # return cv2.cvtColor(img, cv2.COLOR_BGR2GRAY)\n",
    "\n",
    "def detect_lanes_in_image_challenge (image):\n",
    "    \"\"\"\n",
    "    The same pipline but, filter out the lane colors\n",
    "    before converting to gray.\n",
    "    \n",
    "    Note:\n",
    "    Putting this as a seperate function, as this is affecting the quality of\n",
    "    original videos.\n",
    "    Bit more averaging logic is needed to make this fully functional for all\n",
    "    videos.\n",
    "    \"\"\"\n",
    "    \n",
    "    gray = grayscale_after_filtering_lanes(image)\n",
    "\n",
    "    # let's do the blur\n",
    "    gray = gaussian_blur (gray, 5)\n",
    "    # canny\n",
    "    gray = canny(gray, 50, 150)\n",
    "    \n",
    "    # region of interest\n",
    "    gray = region_of_interest (gray, get_area_of_interest(image))\n",
    "\n",
    "    #hough transform\n",
    "    line_image = hough_lines_full (gray, 2, np.pi/180, 15, 40, 20)\n",
    "\n",
    "    #output image\n",
    "    out_image = weighted_img (line_image, image,  β=1.)\n",
    "    \n",
    "    return out_image    \n",
    "\n",
    "def process_image2(image):\n",
    "    # NOTE: The output you return should be a color image (3 channel) for processing video below\n",
    "    # TODO: put your pipeline here,\n",
    "    # you should return the final output (image where lines are drawn on lanes)\n",
    "    result = detect_lanes_in_image_challenge (image)\n",
    "    return result"
   ]
  },
  {
   "cell_type": "code",
   "execution_count": 21,
   "metadata": {},
   "outputs": [
    {
     "name": "stdout",
     "output_type": "stream",
     "text": [
      "[MoviePy] >>>> Building video test_videos_output/challenge.mp4\n",
      "[MoviePy] Writing video test_videos_output/challenge.mp4\n"
     ]
    },
    {
     "name": "stderr",
     "output_type": "stream",
     "text": [
      "100%|██████████| 251/251 [00:26<00:00,  9.62it/s]\n"
     ]
    },
    {
     "name": "stdout",
     "output_type": "stream",
     "text": [
      "[MoviePy] Done.\n",
      "[MoviePy] >>>> Video ready: test_videos_output/challenge.mp4 \n",
      "\n",
      "CPU times: user 12.6 s, sys: 965 ms, total: 13.5 s\n",
      "Wall time: 29.6 s\n"
     ]
    }
   ],
   "source": [
    "challenge_output = 'test_videos_output/challenge.mp4'\n",
    "## To speed up the testing process you may want to try your pipeline on a shorter subclip of the video\n",
    "## To do so add .subclip(start_second,end_second) to the end of the line below\n",
    "## Where start_second and end_second are integer values representing the start and end of the subclip\n",
    "## You may also uncomment the following line for a subclip of the first 5 seconds\n",
    "#clip3 = VideoFileClip('test_videos/challenge.mp4').subclip(4,6)\n",
    "clip3 = VideoFileClip('test_videos/challenge.mp4')\n",
    "challenge_clip = clip3.fl_image(detect_lanes_in_image_challenge)\n",
    "%time challenge_clip.write_videofile(challenge_output, audio=False)"
   ]
  },
  {
   "cell_type": "code",
   "execution_count": 22,
   "metadata": {},
   "outputs": [
    {
     "data": {
      "text/html": [
       "\n",
       "<video width=\"960\" height=\"540\" controls>\n",
       "  <source src=\"test_videos_output/challenge.mp4\">\n",
       "</video>\n"
      ],
      "text/plain": [
       "<IPython.core.display.HTML object>"
      ]
     },
     "execution_count": 22,
     "metadata": {},
     "output_type": "execute_result"
    }
   ],
   "source": [
    "HTML(\"\"\"\n",
    "<video width=\"960\" height=\"540\" controls>\n",
    "  <source src=\"{0}\">\n",
    "</video>\n",
    "\"\"\".format(challenge_output))"
   ]
  },
  {
   "cell_type": "code",
   "execution_count": null,
   "metadata": {},
   "outputs": [],
   "source": []
  },
  {
   "cell_type": "code",
   "execution_count": null,
   "metadata": {},
   "outputs": [],
   "source": []
  }
 ],
 "metadata": {
  "anaconda-cloud": {},
  "kernelspec": {
   "display_name": "Python 3",
   "language": "python",
   "name": "python3"
  },
  "language_info": {
   "codemirror_mode": {
    "name": "ipython",
    "version": 3
   },
   "file_extension": ".py",
   "mimetype": "text/x-python",
   "name": "python",
   "nbconvert_exporter": "python",
   "pygments_lexer": "ipython3",
   "version": "3.5.2"
  },
  "widgets": {
   "state": {},
   "version": "1.1.2"
  }
 },
 "nbformat": 4,
 "nbformat_minor": 1
}
